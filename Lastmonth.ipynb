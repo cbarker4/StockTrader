{
 "cells": [
  {
   "cell_type": "code",
   "execution_count": 1,
   "metadata": {},
   "outputs": [],
   "source": [
    "import Portfolio\n",
    "from Narrowing import knn \n",
    "from Narrowing import price\n",
    "from DataColection import TickerPuller\n",
    "import time\n"
   ]
  },
  {
   "cell_type": "code",
   "execution_count": 2,
   "metadata": {},
   "outputs": [],
   "source": [
    "user = Portfolio.portfolio\n",
    "\n",
    "user.cash=100\n",
    "\n",
    "\n"
   ]
  },
  {
   "cell_type": "code",
   "execution_count": null,
   "metadata": {},
   "outputs": [],
   "source": []
  },
  {
   "cell_type": "code",
   "execution_count": 3,
   "metadata": {},
   "outputs": [],
   "source": [
    "recomended,day = knn.knn_past(days_back=28)"
   ]
  },
  {
   "cell_type": "code",
   "execution_count": 4,
   "metadata": {},
   "outputs": [
    {
     "name": "stdout",
     "output_type": "stream",
     "text": [
      "293\n",
      "293\n"
     ]
    }
   ],
   "source": [
    "i = 1\n",
    "print(len(recomended))\n",
    "print(len(day))\n",
    "while i > 0:\n",
    "    # recomended,day = knn.knn_past(days_back=i)\n",
    "    inbudget,day = price.inbudget(recomended,user.cash,5,day=day)\n",
    "    \n",
    "    \n",
    "    \n",
    "\n",
    "\n",
    "\n",
    "\n",
    "    i-=1    "
   ]
  },
  {
   "cell_type": "code",
   "execution_count": 5,
   "metadata": {},
   "outputs": [
    {
     "name": "stdout",
     "output_type": "stream",
     "text": [
      "235\n",
      "293\n"
     ]
    }
   ],
   "source": [
    "print(len(inbudget))\n",
    "print(len(recomended))"
   ]
  },
  {
   "cell_type": "code",
   "execution_count": 6,
   "metadata": {},
   "outputs": [
    {
     "name": "stdout",
     "output_type": "stream",
     "text": [
      "235\n",
      "235\n",
      "10\n",
      "10\n",
      "[1659657600.0]\n",
      "[1659657600.0, 1659916800.0]\n",
      "[1659657600.0, 1659916800.0, 1659916800.0]\n",
      "[1659657600.0, 1659916800.0, 1659916800.0, 1659916800.0]\n",
      "[1659657600.0, 1659916800.0, 1659916800.0, 1659916800.0, 1659916800.0]\n",
      "5\n",
      "5\n",
      "['OLPX.csv', 'EVGO.csv', 'GDRX.csv', 'MRSN.csv', 'PRTS.csv']\n"
     ]
    }
   ],
   "source": [
    "from Narrowing import adr\n",
    "from Narrowing import volume\n",
    "\n",
    "print(len(inbudget))\n",
    "print(len(day))\n",
    "good_volume,day = volume.remove_by_volume(inbudget,250000,250000,days=day)\n",
    "print(len(good_volume))\n",
    "print(len(day))\n",
    "\n",
    "\n",
    "stocks,day = adr.best_daily_range(good_volume,5,days=day)\n",
    "print(len(stocks))\n",
    "print(len(day))\n",
    "\n",
    "print(stocks)"
   ]
  },
  {
   "cell_type": "code",
   "execution_count": 7,
   "metadata": {},
   "outputs": [
    {
     "name": "stdout",
     "output_type": "stream",
     "text": [
      "5\n",
      "[1659657600.0, 1659916800.0, 1659916800.0, 1659916800.0, 1659916800.0]\n",
      "OLPX.csv\n",
      "EVGO.csv\n",
      "GDRX.csv\n",
      "MRSN.csv\n",
      "PRTS.csv\n",
      "[1659657600.0, 1659916800.0, 1659916800.0, 1659916800.0, 1659916800.0]\n"
     ]
    }
   ],
   "source": [
    "print(len(day))\n",
    "print(day)\n",
    "stonks = []\n",
    "for val in stocks:\n",
    "    print(val)\n",
    "    stonks.append(val.replace(\".csv\",\"\"))\n",
    "for i ,stock in enumerate(stonks):\n",
    "    TickerPuller.thisday(stock,int(day[i]))\n",
    "    time.sleep(1.1)\n",
    "print(day)"
   ]
  },
  {
   "cell_type": "code",
   "execution_count": 8,
   "metadata": {},
   "outputs": [
    {
     "name": "stderr",
     "output_type": "stream",
     "text": [
      "/tmp/ipykernel_106357/263405263.py:1: DeprecationWarning: the imp module is deprecated in favour of importlib; see the module's documentation for alternative uses\n",
      "  import imp\n"
     ]
    },
    {
     "ename": "AttributeError",
     "evalue": "type object 'portfolio' has no attribute 'liquid'",
     "output_type": "error",
     "traceback": [
      "\u001b[0;31m---------------------------------------------------------------------------\u001b[0m",
      "\u001b[0;31mAttributeError\u001b[0m                            Traceback (most recent call last)",
      "Cell \u001b[0;32mIn[8], line 24\u001b[0m\n\u001b[1;32m     21\u001b[0m \u001b[39mfor\u001b[39;00m i,val \u001b[39min\u001b[39;00m \u001b[39menumerate\u001b[39m(mockrun):\n\u001b[1;32m     22\u001b[0m     \u001b[39mif\u001b[39;00m (start \u001b[39m-\u001b[39m (avg \u001b[39m-\u001b[39m std)) \u001b[39m>\u001b[39m\u001b[39m=\u001b[39mval:\n\u001b[0;32m---> 24\u001b[0m         user\u001b[39m.\u001b[39;49mliquid[name] \u001b[39m=\u001b[39m math\u001b[39m.\u001b[39mfloor(amount_per_stock\u001b[39m/\u001b[39mval)\n\u001b[1;32m     25\u001b[0m         user\u001b[39m.\u001b[39mcash \u001b[39m=\u001b[39m user\u001b[39m.\u001b[39mcash \u001b[39m-\u001b[39m val\n\u001b[1;32m     29\u001b[0m         \u001b[39mbreak\u001b[39;00m\n",
      "\u001b[0;31mAttributeError\u001b[0m: type object 'portfolio' has no attribute 'liquid'"
     ]
    }
   ],
   "source": [
    "import imp\n",
    "import mypytable\n",
    "from Predicting import HiFinder \n",
    "import math\n",
    "imp.reload(HiFinder)\n",
    "imp.reload(Portfolio)\n",
    "money = user.cash\n",
    "amount_per_stock = money/5\n",
    "for name in stocks:\n",
    "    mt = mypytable.MyPyTable()\n",
    "    mt.load_from_file(\"Data/todays/\"+name)\n",
    "    \n",
    "    past = HiFinder.StanderdStock(name)\n",
    "\n",
    "    avg = past.Low_mean_std()[0]\n",
    "    std = past.Low_mean_std()[1]\n",
    "    # print(avg,std)\n",
    "    mockrun = mt.get_column('o')\n",
    "    start = mockrun[0]\n",
    "    mockrun.pop(0)\n",
    "    for i,val in enumerate(mockrun):\n",
    "        if (start - (avg - std)) >=val:\n",
    "            \n",
    "            user.liquid[name] = math.floor(amount_per_stock/val)\n",
    "            user.cash = user.cash - val\n",
    "            \n",
    "\n",
    "\n",
    "            break\n",
    "\n",
    "        \n",
    "\n",
    "\n",
    "\n",
    "    \n",
    "    \n",
    "    "
   ]
  }
 ],
 "metadata": {
  "kernelspec": {
   "display_name": "Python 3.9.16 ('tf')",
   "language": "python",
   "name": "python3"
  },
  "language_info": {
   "codemirror_mode": {
    "name": "ipython",
    "version": 3
   },
   "file_extension": ".py",
   "mimetype": "text/x-python",
   "name": "python",
   "nbconvert_exporter": "python",
   "pygments_lexer": "ipython3",
   "version": "3.9.16"
  },
  "orig_nbformat": 4,
  "vscode": {
   "interpreter": {
    "hash": "57f72d97daca9169f30c9ad42adeb4d6ec91c220776b1e342e1d269fde56f1f6"
   }
  }
 },
 "nbformat": 4,
 "nbformat_minor": 2
}
