{
 "cells": [
  {
   "cell_type": "code",
   "execution_count": 1,
   "metadata": {},
   "outputs": [],
   "source": [
    "import Portfolio\n",
    "from Narrowing import knn \n",
    "from Narrowing import price\n",
    "from DataColection import TickerPuller\n",
    "import time\n"
   ]
  },
  {
   "cell_type": "code",
   "execution_count": 2,
   "metadata": {},
   "outputs": [],
   "source": [
    "user = Portfolio.portfolio()\n",
    "\n",
    "user.cash=100\n",
    "\n",
    "\n"
   ]
  },
  {
   "cell_type": "code",
   "execution_count": null,
   "metadata": {},
   "outputs": [],
   "source": []
  },
  {
   "cell_type": "code",
   "execution_count": 3,
   "metadata": {},
   "outputs": [],
   "source": [
    "recomended,day = knn.knn_past(days_back=30)"
   ]
  },
  {
   "cell_type": "code",
   "execution_count": 4,
   "metadata": {},
   "outputs": [
    {
     "name": "stdout",
     "output_type": "stream",
     "text": [
      "267\n",
      "267\n"
     ]
    }
   ],
   "source": [
    "i = 1\n",
    "print(len(recomended))\n",
    "print(len(day))\n",
    "while i > 0:\n",
    "    # recomended,day = knn.knn_past(days_back=i)\n",
    "    inbudget,day = price.inbudget(recomended,user.cash,5,day=day)\n",
    "\n",
    "    i-=1    "
   ]
  },
  {
   "cell_type": "code",
   "execution_count": 5,
   "metadata": {},
   "outputs": [
    {
     "name": "stdout",
     "output_type": "stream",
     "text": [
      "204\n",
      "267\n"
     ]
    }
   ],
   "source": [
    "print(len(inbudget))\n",
    "print(len(recomended))"
   ]
  },
  {
   "cell_type": "code",
   "execution_count": 6,
   "metadata": {},
   "outputs": [
    {
     "name": "stdout",
     "output_type": "stream",
     "text": [
      "204\n",
      "204\n",
      "11\n",
      "11\n",
      "[1659571200.0]\n",
      "[1659571200.0, 1659571200.0]\n",
      "[1659571200.0, 1659571200.0, 1659571200.0]\n",
      "[1659571200.0, 1659571200.0, 1659571200.0, 1659571200.0]\n",
      "[1659571200.0, 1659571200.0, 1659571200.0, 1659571200.0, 1659571200.0]\n",
      "5\n",
      "5\n",
      "['VERU.csv', 'ALLO.csv', 'EXTR.csv', 'SLDP.csv', 'INVZ.csv']\n"
     ]
    }
   ],
   "source": [
    "from Narrowing import adr\n",
    "from Narrowing import volume\n",
    "\n",
    "print(len(inbudget))\n",
    "print(len(day))\n",
    "good_volume,day = volume.remove_by_volume(inbudget,250000,250000,days=day)\n",
    "print(len(good_volume))\n",
    "print(len(day))\n",
    "\n",
    "\n",
    "stocks,day = adr.best_daily_range(good_volume,5,days=day)\n",
    "print(len(stocks))\n",
    "print(len(day))\n",
    "\n",
    "print(stocks)"
   ]
  },
  {
   "cell_type": "code",
   "execution_count": 7,
   "metadata": {},
   "outputs": [
    {
     "name": "stdout",
     "output_type": "stream",
     "text": [
      "5\n",
      "[1659571200.0, 1659571200.0, 1659571200.0, 1659571200.0, 1659571200.0]\n",
      "VERU.csv\n",
      "ALLO.csv\n",
      "EXTR.csv\n",
      "SLDP.csv\n",
      "INVZ.csv\n",
      "4\n",
      "4\n",
      "4\n",
      "4\n",
      "4\n",
      "[1659571200.0, 1659571200.0, 1659571200.0, 1659571200.0, 1659571200.0]\n"
     ]
    }
   ],
   "source": [
    "print(len(day))\n",
    "print(day)\n",
    "stonks = []\n",
    "for val in stocks:\n",
    "    print(val)\n",
    "    stonks.append(val.replace(\".csv\",\"\"))\n",
    "for i ,stock in enumerate(stonks):\n",
    "    TickerPuller.thisday(stock,int(day[i]))\n",
    "    time.sleep(1.1)\n",
    "print(day)"
   ]
  },
  {
   "cell_type": "code",
   "execution_count": 8,
   "metadata": {},
   "outputs": [
    {
     "name": "stderr",
     "output_type": "stream",
     "text": [
      "/tmp/ipykernel_130302/2307930309.py:1: DeprecationWarning: the imp module is deprecated in favour of importlib; see the module's documentation for alternative uses\n",
      "  import imp\n"
     ]
    }
   ],
   "source": [
    "import imp\n",
    "import mypytable\n",
    "from Predicting import HiFinder \n",
    "import math\n",
    "imp.reload(HiFinder)\n",
    "imp.reload(Portfolio)\n",
    "money = user.cash\n",
    "amount_per_stock = money/5\n",
    "for name in stocks:\n",
    "    mt = mypytable.MyPyTable()\n",
    "    mt.load_from_file(\"Data/todays/\"+name)\n",
    "    \n",
    "    past = HiFinder.StanderdStock(name)\n",
    "\n",
    "    avg = past.Low_mean_std()[0]\n",
    "    std = past.Low_mean_std()[1]\n",
    "    # print(avg,std)\n",
    "    mockrun = mt.get_column('o')\n",
    "    start = mockrun[0]\n",
    "    mockrun.pop(0)\n",
    "    for i,val in enumerate(mockrun):\n",
    "        if (start - (avg - std)) >=val:\n",
    "            \n",
    "            user.liquid[name] = math.floor(amount_per_stock/val)\n",
    "            user.price[name] = val\n",
    "            user.cash = user.cash - (val * math.floor(amount_per_stock/val))\n",
    "            \n",
    "            break\n",
    "\n",
    "    \n",
    "\n",
    "\n",
    "\n",
    "\n",
    "\n",
    "\n",
    "    \n",
    "    \n",
    "    "
   ]
  },
  {
   "cell_type": "code",
   "execution_count": 9,
   "metadata": {},
   "outputs": [
    {
     "name": "stdout",
     "output_type": "stream",
     "text": [
      "5\n",
      "5\n",
      "5\n",
      "5\n",
      "5\n"
     ]
    }
   ],
   "source": [
    "stonks = []\n",
    "for val in user.liquid.keys():\n",
    "    # print(val)\n",
    "    stonks.append(val.replace(\".csv\",\"\"))\n",
    "for i ,stock in enumerate(stonks):\n",
    "    TickerPuller.thisday(stock,int(day[i] + 86400 ))\n",
    "    time.sleep(1.1)"
   ]
  },
  {
   "cell_type": "code",
   "execution_count": 10,
   "metadata": {},
   "outputs": [
    {
     "name": "stdout",
     "output_type": "stream",
     "text": [
      "17.304999999999996\n",
      "0.41\n",
      "1.32\n",
      "0.40500000000000114\n",
      "1.2299999999999986\n"
     ]
    }
   ],
   "source": [
    "\n",
    "### Selling \n",
    "\n",
    "# for val in user.liquid.keys():\n",
    "#     print(val)\n",
    "    \n",
    "\n",
    "# print(len(day))\n",
    "# print(day)\n",
    "# stonks = []\n",
    "# for val in user.liquid.keys():\n",
    "#     # print(val)\n",
    "#     stonks.append(val.replace(\".csv\",\"\"))\n",
    "# for i ,stock in enumerate(stonks):\n",
    "#     TickerPuller.thisday(stock,int(day[i] + 86400 ))\n",
    "#     time.sleep(1.1)\n",
    "# print(day)\n",
    "\n",
    "\n",
    "for name in stocks:\n",
    "    mt = mypytable.MyPyTable()\n",
    "    mt.load_from_file(\"Data/todays/\"+name)\n",
    "\n",
    "    past = HiFinder.StanderdStock(name)\n",
    "\n",
    "    avg = past.Hi_mean_std()[0]\n",
    "    std = past.Hi_mean_std()[1]\n",
    "    # print(avg,std)\n",
    "    mockrun = mt.get_column('o')\n",
    "    start = mockrun[0]\n",
    "    mockrun.pop(0)\n",
    "    for i,val in enumerate(mockrun):\n",
    "        if (start + (avg + std)) <=val:\n",
    "            \n",
    "            user.cash = user.liquid[name] * val\n",
    "            user.profits +=  (user.liquid[name]*val) - (user.price[name]*user.liquid[name])\n",
    "\n",
    "            user.price[name] = 0\n",
    "            # user.cash = user.cash - (val * math.floor(amount_per_stock/val))\n",
    "            \n",
    "            break\n",
    "\n",
    "        if i-1 == len(mockrun):\n",
    "            user.cash = user.liquid[name] * val\n",
    "            user.profits +=  (user.liquid[name]*val) - (user.price[name]*user.liquid[name])\n",
    "\n",
    "            user.price[name] = 0\n",
    "            print(\"Here\")\n",
    "    \n",
    "print(17.304999999999996)\n",
    "print(0.41)\n",
    "print(1.32)\n",
    "print(0.40500000000000114)\n",
    "print(user.profits)\n",
    "            "
   ]
  }
 ],
 "metadata": {
  "kernelspec": {
   "display_name": "Python 3.9.16 ('tf')",
   "language": "python",
   "name": "python3"
  },
  "language_info": {
   "codemirror_mode": {
    "name": "ipython",
    "version": 3
   },
   "file_extension": ".py",
   "mimetype": "text/x-python",
   "name": "python",
   "nbconvert_exporter": "python",
   "pygments_lexer": "ipython3",
   "version": "3.9.16"
  },
  "orig_nbformat": 4,
  "vscode": {
   "interpreter": {
    "hash": "57f72d97daca9169f30c9ad42adeb4d6ec91c220776b1e342e1d269fde56f1f6"
   }
  }
 },
 "nbformat": 4,
 "nbformat_minor": 2
}
