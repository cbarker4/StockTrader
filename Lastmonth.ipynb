{
 "cells": [
  {
   "cell_type": "code",
   "execution_count": 1,
   "metadata": {},
   "outputs": [],
   "source": [
    "import Portfolio\n",
    "from Narrowing import knn \n",
    "from Narrowing import price\n"
   ]
  },
  {
   "cell_type": "code",
   "execution_count": 2,
   "metadata": {},
   "outputs": [],
   "source": [
    "user = Portfolio.portfolio\n",
    "\n",
    "user.cash=100\n",
    "\n",
    "\n"
   ]
  },
  {
   "cell_type": "code",
   "execution_count": null,
   "metadata": {},
   "outputs": [],
   "source": []
  },
  {
   "cell_type": "code",
   "execution_count": 3,
   "metadata": {},
   "outputs": [],
   "source": [
    "recomended,day = knn.knn_past(days_back=20)"
   ]
  },
  {
   "cell_type": "code",
   "execution_count": 4,
   "metadata": {},
   "outputs": [
    {
     "name": "stdout",
     "output_type": "stream",
     "text": [
      "259\n",
      "259\n"
     ]
    }
   ],
   "source": [
    "i = 1\n",
    "print(len(recomended))\n",
    "print(len(day))\n",
    "while i > 0:\n",
    "    # recomended,day = knn.knn_past(days_back=i)\n",
    "    inbudget,day = price.inbudget(recomended,user.cash,5,day=day)\n",
    "    \n",
    "    \n",
    "    \n",
    "\n",
    "\n",
    "\n",
    "\n",
    "    i-=1    "
   ]
  },
  {
   "cell_type": "code",
   "execution_count": 5,
   "metadata": {},
   "outputs": [
    {
     "name": "stdout",
     "output_type": "stream",
     "text": [
      "216\n",
      "259\n"
     ]
    }
   ],
   "source": [
    "print(len(inbudget))\n",
    "print(len(recomended))"
   ]
  },
  {
   "cell_type": "code",
   "execution_count": 6,
   "metadata": {},
   "outputs": [
    {
     "name": "stdout",
     "output_type": "stream",
     "text": [
      "216\n",
      "216\n",
      "99\n",
      "99\n",
      "99\n",
      "99\n",
      "99\n",
      "99\n",
      "99\n",
      "99\n",
      "99\n",
      "0.7570904761904762 DISH.csv\n",
      "0.6684904761904763 CARG.csv\n",
      "0.5092666666666665 TSP.csv\n",
      "0.27070476190476195 HIVE.csv\n",
      "0.15737142857142855 GEVO.csv\n",
      "0.15202380952380956 AFMD.csv\n",
      "0.1445761904761904 TIGR.csv\n",
      "0.07340952380952383 SDC.csv\n",
      "0.04336666666666666 TNXP.csv\n",
      "['DISH.csv', 'CARG.csv', 'TSP.csv', 'HIVE.csv', 'GEVO.csv']\n"
     ]
    }
   ],
   "source": [
    "from Narrowing import adr\n",
    "from Narrowing import volume\n",
    "\n",
    "print(len(inbudget))\n",
    "print(len(day))\n",
    "good_volume,day = volume.remove_by_volume(inbudget,250000,250000,days=day)\n",
    "\n",
    "\n",
    "stocks = adr.best_daily_range(good_volume,5,days=day)\n",
    "\n",
    "print(stocks)"
   ]
  }
 ],
 "metadata": {
  "kernelspec": {
   "display_name": "Python 3.9.16 ('tf')",
   "language": "python",
   "name": "python3"
  },
  "language_info": {
   "codemirror_mode": {
    "name": "ipython",
    "version": 3
   },
   "file_extension": ".py",
   "mimetype": "text/x-python",
   "name": "python",
   "nbconvert_exporter": "python",
   "pygments_lexer": "ipython3",
   "version": "3.9.16"
  },
  "orig_nbformat": 4,
  "vscode": {
   "interpreter": {
    "hash": "57f72d97daca9169f30c9ad42adeb4d6ec91c220776b1e342e1d269fde56f1f6"
   }
  }
 },
 "nbformat": 4,
 "nbformat_minor": 2
}
