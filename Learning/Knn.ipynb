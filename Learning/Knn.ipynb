
from sklearn.neighbors import KNeighborsClassifier

data = list(zip(X_train,Y_train))
knn = KNeighborsClassifier(n_neighbors=1)
knn.fit(X_train,Y_train)