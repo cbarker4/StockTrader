{
 "cells": [
  {
   "cell_type": "markdown",
   "metadata": {},
   "source": [
    "The Point of this note book is to show the dailly work flow for this applicaiton and than fill in the required steps \n",
    "Adaditionally it shows the production line and tasks that will be run on a dailly basis "
   ]
  },
  {
   "cell_type": "code",
   "execution_count": 1,
   "metadata": {},
   "outputs": [],
   "source": [
    "Demo = True"
   ]
  },
  {
   "cell_type": "markdown",
   "metadata": {},
   "source": [
    "### Collect data "
   ]
  },
  {
   "cell_type": "code",
   "execution_count": 2,
   "metadata": {},
   "outputs": [
    {
     "name": "stdout",
     "output_type": "stream",
     "text": [
      "JJSF\n",
      "val\n",
      "JJSF\n",
      "JKHY\n",
      "JMAC\n",
      "JMACU\n"
     ]
    }
   ],
   "source": [
    "from DataColection import TickerPuller\n",
    "import time\n",
    "\n",
    "\n",
    "all_tickers = open(\"DataColection/nasdaq_tickers.txt\").readlines()\n",
    "start = open(\"DataColection/lastpulled.txt\").read()\n",
    "print(start)\n",
    "skip = True\n",
    "count = 0\n",
    "\n",
    "for val in all_tickers:\n",
    "    if start in val:\n",
    "        print(\"val\")\n",
    "        skip = False\n",
    "\n",
    "   \n",
    "    if not skip:\n",
    "        try:\n",
    "            count+=1\n",
    "            if Demo & (count== 5):\n",
    "                break\n",
    "\n",
    "            val = val.replace(\"\\n\",\"\")\n",
    "            TickerPuller.lastYearOfData(val)\n",
    "            open(\"DataColection/lastpulled.txt\",'w').write(val)\n",
    "            time.sleep(1.1)\n",
    "            print(val)\n",
    "        except:\n",
    "            pass\n",
    "\n"
   ]
  },
  {
   "cell_type": "markdown",
   "metadata": {},
   "source": [
    "### Narrowing down the amount of stocks to look through\n"
   ]
  },
  {
   "cell_type": "code",
   "execution_count": 3,
   "metadata": {},
   "outputs": [
    {
     "ename": "IndexError",
     "evalue": "list index out of range",
     "output_type": "error",
     "traceback": [
      "\u001b[0;31m---------------------------------------------------------------------------\u001b[0m",
      "\u001b[0;31mIndexError\u001b[0m                                Traceback (most recent call last)",
      "Cell \u001b[0;32mIn[3], line 5\u001b[0m\n\u001b[1;32m      3\u001b[0m     recomended \u001b[39m=\u001b[39m knn\u001b[39m.\u001b[39mknnPicks()\n\u001b[1;32m      4\u001b[0m \u001b[39melse\u001b[39;00m:\n\u001b[0;32m----> 5\u001b[0m     recomended \u001b[39m=\u001b[39m knn\u001b[39m.\u001b[39;49mknnPicks(yesterday\u001b[39m=\u001b[39;49m\u001b[39mTrue\u001b[39;49;00m)\n",
      "File \u001b[0;32m~/Documents/DataScience/StockTrader/Narrowing/knn.py:121\u001b[0m, in \u001b[0;36mknnPicks\u001b[0;34m(yesterday)\u001b[0m\n\u001b[1;32m    119\u001b[0m             good\u001b[39m.\u001b[39mappend(tickers[i])        \n\u001b[1;32m    120\u001b[0m     \u001b[39melse\u001b[39;00m:\n\u001b[0;32m--> 121\u001b[0m         noChange\u001b[39m.\u001b[39mappend(tickers[i])  \n\u001b[1;32m    122\u001b[0m \u001b[39m# print(good)         \u001b[39;00m\n\u001b[1;32m    123\u001b[0m \u001b[39m# print(len(good))\u001b[39;00m\n\u001b[1;32m    124\u001b[0m \u001b[39mreturn\u001b[39;00m good\n",
      "\u001b[0;31mIndexError\u001b[0m: list index out of range"
     ]
    }
   ],
   "source": [
    "from Narrowing import knn\n",
    "if Demo == False:\n",
    "    recomended = knn.knnPicks()\n",
    "else:\n",
    "    recomended = knn.knnPicks(yesterday=True)\n"
   ]
  },
  {
   "cell_type": "markdown",
   "metadata": {},
   "source": []
  },
  {
   "cell_type": "code",
   "execution_count": null,
   "metadata": {},
   "outputs": [],
   "source": []
  }
 ],
 "metadata": {
  "kernelspec": {
   "display_name": "Python 3.9.16 ('tf')",
   "language": "python",
   "name": "python3"
  },
  "language_info": {
   "codemirror_mode": {
    "name": "ipython",
    "version": 3
   },
   "file_extension": ".py",
   "mimetype": "text/x-python",
   "name": "python",
   "nbconvert_exporter": "python",
   "pygments_lexer": "ipython3",
   "version": "3.9.16"
  },
  "orig_nbformat": 4,
  "vscode": {
   "interpreter": {
    "hash": "57f72d97daca9169f30c9ad42adeb4d6ec91c220776b1e342e1d269fde56f1f6"
   }
  }
 },
 "nbformat": 4,
 "nbformat_minor": 2
}
