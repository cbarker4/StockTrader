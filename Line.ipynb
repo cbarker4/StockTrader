{
 "cells": [
  {
   "cell_type": "markdown",
   "metadata": {},
   "source": [
    "The Point of this note book is to show the dailly work flow for this applicaiton and than fill in the required steps \n",
    "Adaditionally it shows the production line and tasks that will be run on a dailly basis "
   ]
  },
  {
   "cell_type": "code",
   "execution_count": 10,
   "metadata": {},
   "outputs": [],
   "source": [
    "Demo = True"
   ]
  },
  {
   "cell_type": "markdown",
   "metadata": {},
   "source": [
    "### Collect data "
   ]
  },
  {
   "cell_type": "code",
   "execution_count": 11,
   "metadata": {},
   "outputs": [
    {
     "name": "stdout",
     "output_type": "stream",
     "text": [
      "ADUS\n",
      "val\n",
      "ADUS\n"
     ]
    }
   ],
   "source": [
    "from DataColection import TickerPuller\n",
    "import time\n",
    "\n",
    "\n",
    "all_tickers = open(\"DataColection/nasdaq_tickers.txt\").readlines()\n",
    "start = open(\"DataColection/lastpulled.txt\").read()\n",
    "print(start)\n",
    "skip = True\n",
    "count = 0\n",
    "\n",
    "for val in all_tickers:\n",
    "    if start in val:\n",
    "        print(\"val\")\n",
    "        skip = False\n",
    "\n",
    "   \n",
    "    if not skip:\n",
    "        try:\n",
    "            count+=1\n",
    "            if Demo & (count== 2):\n",
    "                break\n",
    "\n",
    "            val = val.replace(\"\\n\",\"\")\n",
    "            TickerPuller.today(val)\n",
    "            open(\"DataColection/lastpulled.txt\",'w').write(val)\n",
    "            time.sleep(1.1)\n",
    "            print(val)\n",
    "        except:\n",
    "            pass\n",
    "\n"
   ]
  },
  {
   "cell_type": "markdown",
   "metadata": {},
   "source": [
    "### Narrowing down the amount of stocks to look through\n"
   ]
  },
  {
   "cell_type": "code",
   "execution_count": 12,
   "metadata": {},
   "outputs": [
    {
     "name": "stdout",
     "output_type": "stream",
     "text": [
      "308\n",
      "4191\n",
      "4191\n",
      "4499\n"
     ]
    }
   ],
   "source": [
    "from Narrowing import knn\n",
    "if Demo == False:\n",
    "    recomended = knn.knnPicks()\n",
    "else:\n",
    "    recomended = knn.knnPicks()\n"
   ]
  },
  {
   "cell_type": "markdown",
   "metadata": {},
   "source": [
    "Pull the dailly stock information for each of the recomended stocks to try and evaluate where to buy"
   ]
  },
  {
   "cell_type": "code",
   "execution_count": 17,
   "metadata": {},
   "outputs": [
    {
     "name": "stdout",
     "output_type": "stream",
     "text": [
      "['ARYE.csv', 'FAZEW.csv', 'CNFRL.csv', 'GATEU.csv', 'BPYPO.csv', 'FLUX.csv', 'GTBP.csv', 'CDROW.csv', 'EVGOW.csv', 'PZZA.csv', 'DISA.csv', 'AMRN.csv', 'CTHR.csv', 'LCAAW.csv', 'TETCU.csv', 'VINO.csv', 'EHTH.csv', 'SVNAW.csv', 'AOGOW.csv', 'ADMP.csv', 'RENE.csv', 'NVAC.csv', 'INOD.csv', 'IMTE.csv', 'PNBK.csv', 'GRRR.csv', 'OZK.csv', 'PDCO.csv', 'GPRO.csv', 'NBTX.csv', 'MNSB.csv', 'AUTL.csv', 'FTNT.csv', 'LGST.csv', 'ASCA.csv', 'IPVIW.csv', 'BFC.csv', 'OXLCO.csv', 'DSWL.csv', 'VMCAW.csv', 'FARM.csv', 'ROSEW.csv', 'SPKBW.csv', 'UONE.csv', 'PRLH.csv', 'OP.csv', 'PUCKW.csv', 'LITT.csv', 'MAQC.csv', 'AMED.csv', 'REBN.csv', 'PEPLW.csv', 'SWAGW.csv', 'NPAB.csv', 'EPOW.csv', 'MACAU.csv', 'AAPL.csv', 'LPRO.csv', 'CMAX.csv', 'ENER.csv', 'AUBN.csv', 'BMBL.csv', 'FUNC.csv', 'SEV.csv', 'VSAC.csv', 'TA.csv', 'TCVA.csv', 'MITA.csv', 'EBTC.csv', 'HTHT.csv', 'SKYA.csv', 'LFST.csv', 'SVRE.csv', 'ARVN.csv', 'SPKB.csv', 'CTRM.csv', 'OPINL.csv', 'ECBK.csv', 'LITTW.csv', 'DNAB.csv', 'AIRTP.csv', 'CELUW.csv', 'MLACW.csv', 'SXTC.csv', 'AUUD.csv', 'WKHS.csv', 'DRS.csv', 'BAND.csv', 'ACAB.csv', 'JOAN.csv', 'VERU.csv', 'ARRWW.csv', 'WSBCP.csv', 'FFWM.csv', 'SVII.csv', 'CHMG.csv', 'DALS.csv', 'LGVCU.csv', 'BWB.csv', 'DCFC.csv', 'BCDA.csv', 'NXTP.csv', 'SEER.csv', 'QTEK.csv', 'DUET.csv', 'TGAAU.csv', 'FFIC.csv', 'BWC.csv', 'AMBA.csv', 'PAVMZ.csv', 'PWP.csv', 'XOSWW.csv', 'OSUR.csv', 'RWOD.csv', 'GGE.csv', 'XRTX.csv', 'MINM.csv', 'FBRX.csv', 'DRTSW.csv', 'STTK.csv', 'VLATW.csv', 'VMGAW.csv', 'APACW.csv', 'SANG.csv', 'NYXH.csv', 'CDXC.csv', 'BLDP.csv', 'EWBC.csv', 'WALD.csv', 'PROCW.csv', 'RWLK.csv', 'FSFG.csv', 'SKGR.csv', 'FOCS.csv', 'EQRXW.csv', 'CUENW.csv', 'EGBN.csv', 'PEGR.csv', 'HNST.csv', 'PALT.csv', 'AGLE.csv', 'RPAY.csv', 'NWL.csv', 'QH.csv', 'WVE.csv', 'UTAAW.csv', 'INVZ.csv', 'UDMY.csv', 'XELA.csv', 'PFTAW.csv', 'VMCA.csv', 'ENCP.csv', 'FRLN.csv', 'ERESU.csv', 'SLAC.csv', 'MIST.csv', 'UNAM.csv', 'ADOCW.csv', 'EDBLW.csv', 'CHTR.csv', 'GBRGW.csv', 'UPXI.csv', 'AUUDW.csv', 'DTOCU.csv', 'AGMH.csv', 'MTACW.csv', 'ARTEU.csv', 'GFGD.csv', 'AFYA.csv', 'PLAOU.csv', 'LSEAW.csv', 'BROGW.csv', 'BPTS.csv', 'BBIG.csv', 'AURCW.csv', 'ONFO.csv', 'ULCC.csv', 'CFFS.csv', 'KRKR.csv', 'BYTSW.csv', 'INTC.csv', 'SPT.csv', 'FSRXW.csv', 'HTIA.csv', 'RDHL.csv', 'NEWTZ.csv', 'SOLOW.csv', 'SBGI.csv', 'ASYS.csv', 'IMPPP.csv', 'ONCY.csv', 'GEEX.csv', 'REGN.csv', 'CFFI.csv', 'PANA.csv', 'GTHX.csv', 'IXAQU.csv', 'BLEUR.csv', 'ALOT.csv', 'MORN.csv', 'NTIC.csv', 'SECO.csv', 'TIGR.csv', 'CNFR.csv', 'BPAC.csv', 'SOHOB.csv', 'LMST.csv', 'BREZR.csv', 'ACDCW.csv', 'GH.csv', 'MBIN.csv', 'BNNRU.csv', 'ACBA.csv', 'FLEX.csv', 'NOGNW.csv', 'DTOC.csv', 'SVC.csv', 'ACB.csv', 'KBNT.csv', 'EFSCP.csv', 'CURI.csv', 'NRSNW.csv', 'PSEC.csv', 'AREBW.csv', 'LVLU.csv', 'GRCL.csv', 'OFS.csv', 'ANEB.csv', 'MEGL.csv', 'ROCG.csv', 'PWUPW.csv', 'GFGDU.csv', 'IRAA.csv', 'NUWE.csv', 'LCAHW.csv', 'HUT.csv', 'VLATU.csv', 'COSM.csv']\n",
      "ADUS\n"
     ]
    }
   ],
   "source": [
    "\n",
    "print(recomended)\n",
    "\n",
    "all_tickers = open(\"DataColection/nasdaq_tickers.txt\").readlines()\n",
    "start = open(\"DataColection/lastpulled.txt\").read()\n",
    "print(start)\n",
    "skip = True\n",
    "count = 0\n",
    "\n",
    "for val in recomended:\n",
    "        try:\n",
    "            \n",
    "\n",
    "            val = val.replace(\"\\n\",\"\")\n",
    "            TickerPuller.today(val)\n",
    "            time.sleep(1.1)\n",
    "            print(val)\n",
    "        except:\n",
    "            pass\n",
    "\n",
    "\n"
   ]
  },
  {
   "cell_type": "code",
   "execution_count": 18,
   "metadata": {},
   "outputs": [
    {
     "name": "stdout",
     "output_type": "stream",
     "text": [
      "238\n"
     ]
    }
   ],
   "source": []
  },
  {
   "cell_type": "code",
   "execution_count": null,
   "metadata": {},
   "outputs": [],
   "source": []
  }
 ],
 "metadata": {
  "kernelspec": {
   "display_name": "Python 3.9.16 ('tf')",
   "language": "python",
   "name": "python3"
  },
  "language_info": {
   "codemirror_mode": {
    "name": "ipython",
    "version": 3
   },
   "file_extension": ".py",
   "mimetype": "text/x-python",
   "name": "python",
   "nbconvert_exporter": "python",
   "pygments_lexer": "ipython3",
   "version": "3.9.16"
  },
  "orig_nbformat": 4,
  "vscode": {
   "interpreter": {
    "hash": "57f72d97daca9169f30c9ad42adeb4d6ec91c220776b1e342e1d269fde56f1f6"
   }
  }
 },
 "nbformat": 4,
 "nbformat_minor": 2
}
