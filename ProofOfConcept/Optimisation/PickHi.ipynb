{
 "cells": [
  {
   "cell_type": "code",
   "execution_count": 8,
   "metadata": {},
   "outputs": [],
   "source": [
    "import os\n",
    "import pandas as pd\n",
    "import numpy as np\n",
    "import mypytable as mypy\n",
    "from sklearn.model_selection import train_test_split\n",
    "import tensorflow as tf\n",
    "import copy"
   ]
  },
  {
   "cell_type": "code",
   "execution_count": 9,
   "metadata": {},
   "outputs": [],
   "source": [
    "\n",
    "stockfiles= os.listdir(\"/home/cbarker4/Documents/DataScience/StockTrader/Data\")\n",
    "X=[]\n",
    "for j,stock in enumerate(stockfiles):\n",
    "    mt = mypy.MyPyTable()\n",
    "    mt.load_from_file(\"/home/cbarker4/Documents/DataScience/StockTrader/Data/\" + stock)\n",
    "    mt.drop_column('v')\n",
    "    mt.drop_column('t')\n",
    "    mt.drop_column('s')\n",
    "    mt.drop_column('l')\n",
    "    mt.drop_column('o')\n",
    "    mt.drop_column(0)\n",
    "    X =[]\n",
    "    for val in mt.data:\n",
    "        X.append(val[1]-val[0])\n",
    "    out = open(\"/home/cbarker4/Documents/DataScience/StockTrader/Optimisation/Results/std.csv\",'a')\n",
    "    out.write(stock + \",\")\n",
    "    out.write(str(sum(X)/len(X))+\",\")\n",
    "    out.write(str(np.std(X))+\",\")\n",
    "    out.write(str())\n",
    "    out.write('\\n')\n",
    "\n"
   ]
  },
  {
   "cell_type": "code",
   "execution_count": null,
   "metadata": {},
   "outputs": [],
   "source": []
  },
  {
   "cell_type": "code",
   "execution_count": null,
   "metadata": {},
   "outputs": [],
   "source": []
  }
 ],
 "metadata": {
  "kernelspec": {
   "display_name": "Python 3.9.16 ('tf')",
   "language": "python",
   "name": "python3"
  },
  "language_info": {
   "codemirror_mode": {
    "name": "ipython",
    "version": 3
   },
   "file_extension": ".py",
   "mimetype": "text/x-python",
   "name": "python",
   "nbconvert_exporter": "python",
   "pygments_lexer": "ipython3",
   "version": "3.9.16"
  },
  "orig_nbformat": 4,
  "vscode": {
   "interpreter": {
    "hash": "57f72d97daca9169f30c9ad42adeb4d6ec91c220776b1e342e1d269fde56f1f6"
   }
  }
 },
 "nbformat": 4,
 "nbformat_minor": 2
}
