{
 "cells": [
  {
   "cell_type": "code",
   "execution_count": 15,
   "metadata": {},
   "outputs": [],
   "source": [
    "from selenium import webdriver\n",
    "from selenium.webdriver.firefox.options import Options\n",
    "from selenium.webdriver.firefox.service import Service\n",
    "from selenium.webdriver.firefox.firefox_profile import FirefoxProfile\n",
    "from selenium.webdriver.common.by import By\n",
    "import shutil\n",
    "import time\n",
    "from selenium.webdriver.common.keys import Keys"
   ]
  },
  {
   "cell_type": "code",
   "execution_count": 16,
   "metadata": {},
   "outputs": [],
   "source": [
    "driver_path = R\"/usr/local/bin/geckodriver\"\n",
    "\n",
    "# path to firefox executable\n",
    "firefox_path = R\"/bin/firefox\"\n",
    "\n",
    "# create options\n",
    "options = Options()\n",
    "# options.add_argument('-headless')\n",
    "\n",
    "# set binary location\n",
    "options.binary_location = firefox_path\n",
    "\n",
    "# create a service object and set executable_path to driver_path\n",
    "service = Service(executable_path=driver_path)\n",
    "\n",
    "# create a driver\n",
    "# options.add_argument(\"~/.config/google-chrome\")\n",
    "driver = webdriver.Firefox(options=options, service=service)\n",
    "\n",
    "url = \"https://www.spreaker.com/show/investors-edge\"\n",
    "\n",
    "\n",
    "driver.get(url)\n",
    "\n",
    "\n",
    "\n",
    "time.sleep(3)\n"
   ]
  },
  {
   "cell_type": "code",
   "execution_count": 17,
   "metadata": {},
   "outputs": [
    {
     "data": {
      "text/plain": [
       "'10 Apr'"
      ]
     },
     "execution_count": 17,
     "metadata": {},
     "output_type": "execute_result"
    }
   ],
   "source": [
    "date = driver.find_element(By.XPATH,\"/html/body/div[2]/div/div[3]/div/div/div[4]/div/div[1]/div/div/div/div[4]/ul/li[1]/div/div/div[3]\")\n",
    "date.text"
   ]
  },
  {
   "cell_type": "code",
   "execution_count": 20,
   "metadata": {},
   "outputs": [],
   "source": [
    "episode = driver.find_element(By.XPATH,\"/html/body/div[2]/div/div[3]/div/div/div[4]/div/div[1]/div/div/div/div[4]/ul/li[1]/div/div/div[2]/a\")\n",
    "episode.click()"
   ]
  },
  {
   "cell_type": "code",
   "execution_count": null,
   "metadata": {},
   "outputs": [],
   "source": []
  },
  {
   "cell_type": "code",
   "execution_count": null,
   "metadata": {},
   "outputs": [],
   "source": [
    "download = driver.find_element(By.XPATH,\"/html/body/div[2]/div/div[3]/div/div/div[2]/div/div[1]/div/div[1]/div/div[2]/div[1]/div[1]/a[2]/span\")\n",
    "download.click()"
   ]
  },
  {
   "cell_type": "code",
   "execution_count": null,
   "metadata": {},
   "outputs": [],
   "source": [
    "driver.back()\n",
    "episode = driver.find_element(By.XPATH,\"/html/body/div[2]/div/div[3]/div/div/div[4]/div/div[1]/div/div/div/div[4]/ul/li[2]/div/div/div[2]/a\")\n",
    "\n"
   ]
  }
 ],
 "metadata": {
  "kernelspec": {
   "display_name": "Python 3.10.9 ('base')",
   "language": "python",
   "name": "python3"
  },
  "language_info": {
   "codemirror_mode": {
    "name": "ipython",
    "version": 3
   },
   "file_extension": ".py",
   "mimetype": "text/x-python",
   "name": "python",
   "nbconvert_exporter": "python",
   "pygments_lexer": "ipython3",
   "version": "3.10.9"
  },
  "orig_nbformat": 4,
  "vscode": {
   "interpreter": {
    "hash": "0e2dcf4f506b7c01fc7562df365c0914792b6494af4fc0c28a0c651ee3d458fe"
   }
  }
 },
 "nbformat": 4,
 "nbformat_minor": 2
}
