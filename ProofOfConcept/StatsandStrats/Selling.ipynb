{
 "cells": [
  {
   "cell_type": "code",
   "execution_count": 139,
   "metadata": {},
   "outputs": [],
   "source": [
    "import os\n",
    "import pandas as pd\n",
    "import numpy as np\n",
    "import mypytable as mypy\n",
    "from sklearn.model_selection import train_test_split\n",
    "import tensorflow as tf"
   ]
  },
  {
   "cell_type": "code",
   "execution_count": null,
   "metadata": {},
   "outputs": [],
   "source": []
  },
  {
   "cell_type": "code",
   "execution_count": 140,
   "metadata": {},
   "outputs": [],
   "source": [
    "stockfiles= os.listdir(\"/home/cbarker4/Documents/DataScience/StockTrader/Data/todays\")\n",
    "X = []\n",
    "Y=[]\n",
    "Xlast=[]\n",
    "# stockfiles=[\"AAPL.csv\"]\n",
    "for j,val in enumerate(stockfiles):\n",
    "\n",
    "    mt = mypy.MyPyTable()\n",
    "    mt.load_from_file(\"/home/cbarker4/Documents/DataScience/StockTrader/Data/todays/\"+val)\n",
    "    mt.drop_column('v')\n",
    "    mt.drop_column('t')\n",
    "    mt.drop_column('s')\n",
    "    mt.drop_column('h')\n",
    "    mt.drop_column('l')\n",
    "    # mt.drop_column('o')\n",
    "\n",
    "    mt.drop_column(0)\n",
    "    X.append(mt.get_column('o'))\n",
    "    Y.append(max(X[j]))\n",
    "\n",
    "\n",
    "    "
   ]
  },
  {
   "cell_type": "code",
   "execution_count": 141,
   "metadata": {},
   "outputs": [
    {
     "name": "stdout",
     "output_type": "stream",
     "text": [
      "0.7135169811320752\n"
     ]
    }
   ],
   "source": [
    "import HiFinder\n",
    "good = []\n",
    "\n",
    "\n",
    "for i,Stock in enumerate(X):\n",
    "    load = HiFinder.StanderdStock(stockfiles[i])\n",
    "    mean,std = load.Hi_mean_std()\n",
    "    open = Stock[0]\n",
    "    curmax = open\n",
    "    canSell = False\n",
    "    decresing = 0\n",
    "    for val in Stock:\n",
    "        if val >  open +(mean - std):\n",
    "            canSell=True\n",
    "            \n",
    "        if val > curmax:\n",
    "            decresing = 0\n",
    "            curmax = val\n",
    "        else:\n",
    "            decresing+=1\n",
    "\n",
    "        if val >  open +(mean + std):\n",
    "        \n",
    "            good.append(max(Stock)-val)\n",
    "            break\n",
    "        if val >  open +(mean + std*.5):\n",
    "                decresing = 4\n",
    "        if val >  open +(mean + std*.7):\n",
    "                decresing = 6\n",
    "        \n",
    "\n",
    "        \n",
    "        if decresing>8 and canSell:\n",
    "    \n",
    "            good.append(max(Stock)-val)\n",
    "            break\n",
    "        \n",
    "\n",
    "\n",
    "print( sum(good)/len(good))\n",
    "            \n",
    "                \n",
    "\n",
    "\n",
    "        \n",
    "        \n",
    "    \n",
    "\n"
   ]
  },
  {
   "cell_type": "code",
   "execution_count": 142,
   "metadata": {},
   "outputs": [],
   "source": [
    "good = []\n",
    "for i,Stock in enumerate(X):\n",
    "    load = HiFinder.StanderdStock(stockfiles[i])\n",
    "    mean,std = load.Hi_mean_std()\n",
    "    open = Stock[0]\n",
    "    curmax = open\n",
    "    count = 0\n",
    "    trail = [0 for x in range(0,30)]\n",
    "    for val in Stock:\n",
    "        \n",
    "        trail.pop(-1)\n",
    "        trail.insert(0,val)\n",
    "        count+=1\n",
    "\n",
    "        if ([val>x for x in trail].count(True)> 20) and count >30: \n",
    "            good.append(max(Stock)-val)\n",
    "            break\n",
    "        \n",
    "            \n",
    "        \n",
    "        \n",
    "\n",
    "\n",
    "\n",
    "            \n",
    "            \n",
    "\n",
    "        "
   ]
  },
  {
   "cell_type": "code",
   "execution_count": 143,
   "metadata": {},
   "outputs": [
    {
     "name": "stdout",
     "output_type": "stream",
     "text": [
      "84\n",
      "47\n",
      "1.3921553191489366\n"
     ]
    }
   ],
   "source": [
    "print(len(X))\n",
    "print(len(good))\n",
    "print( sum(good)/len(good))"
   ]
  }
 ],
 "metadata": {
  "kernelspec": {
   "display_name": "Python 3.9.16 ('tf')",
   "language": "python",
   "name": "python3"
  },
  "language_info": {
   "codemirror_mode": {
    "name": "ipython",
    "version": 3
   },
   "file_extension": ".py",
   "mimetype": "text/x-python",
   "name": "python",
   "nbconvert_exporter": "python",
   "pygments_lexer": "ipython3",
   "version": "3.9.16"
  },
  "orig_nbformat": 4,
  "vscode": {
   "interpreter": {
    "hash": "57f72d97daca9169f30c9ad42adeb4d6ec91c220776b1e342e1d269fde56f1f6"
   }
  }
 },
 "nbformat": 4,
 "nbformat_minor": 2
}
