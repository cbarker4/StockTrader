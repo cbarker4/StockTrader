{
 "cells": [
  {
   "cell_type": "code",
   "execution_count": 1,
   "metadata": {},
   "outputs": [
    {
     "name": "stderr",
     "output_type": "stream",
     "text": [
      "2023-04-27 23:39:32.389903: I tensorflow/core/platform/cpu_feature_guard.cc:193] This TensorFlow binary is optimized with oneAPI Deep Neural Network Library (oneDNN) to use the following CPU instructions in performance-critical operations:  AVX2 AVX_VNNI FMA\n",
      "To enable them in other operations, rebuild TensorFlow with the appropriate compiler flags.\n",
      "2023-04-27 23:39:32.782459: I tensorflow/core/util/port.cc:104] oneDNN custom operations are on. You may see slightly different numerical results due to floating-point round-off errors from different computation orders. To turn them off, set the environment variable `TF_ENABLE_ONEDNN_OPTS=0`.\n",
      "2023-04-27 23:39:33.841432: W tensorflow/compiler/xla/stream_executor/platform/default/dso_loader.cc:64] Could not load dynamic library 'libnvinfer.so.7'; dlerror: libnvinfer.so.7: cannot open shared object file: No such file or directory; LD_LIBRARY_PATH: :/home/cbarker4/miniconda3/envs/tf/lib/\n",
      "2023-04-27 23:39:33.841495: W tensorflow/compiler/xla/stream_executor/platform/default/dso_loader.cc:64] Could not load dynamic library 'libnvinfer_plugin.so.7'; dlerror: libnvinfer_plugin.so.7: cannot open shared object file: No such file or directory; LD_LIBRARY_PATH: :/home/cbarker4/miniconda3/envs/tf/lib/\n",
      "2023-04-27 23:39:33.841499: W tensorflow/compiler/tf2tensorrt/utils/py_utils.cc:38] TF-TRT Warning: Cannot dlopen some TensorRT libraries. If you would like to use Nvidia GPU with TensorRT, please make sure the missing libraries mentioned above are installed properly.\n"
     ]
    }
   ],
   "source": [
    "import os\n",
    "import pandas as pd\n",
    "import numpy as np\n",
    "import mypytable as mypy\n",
    "from sklearn.model_selection import train_test_split\n",
    "import tensorflow as tf\n",
    "import copy"
   ]
  },
  {
   "cell_type": "code",
   "execution_count": 3,
   "metadata": {},
   "outputs": [
    {
     "ename": "FileNotFoundError",
     "evalue": "[Errno 2] No such file or directory: '/home/cbarker4/Documents/DataScience/StockTrader/Data/todaysAAPL.csv'",
     "output_type": "error",
     "traceback": [
      "\u001b[0;31m---------------------------------------------------------------------------\u001b[0m",
      "\u001b[0;31mFileNotFoundError\u001b[0m                         Traceback (most recent call last)",
      "Cell \u001b[0;32mIn[3], line 9\u001b[0m\n\u001b[1;32m      6\u001b[0m \u001b[39mfor\u001b[39;00m j,val \u001b[39min\u001b[39;00m \u001b[39menumerate\u001b[39m(stockfiles):\n\u001b[1;32m      8\u001b[0m     mt \u001b[39m=\u001b[39m mypy\u001b[39m.\u001b[39mMyPyTable()\n\u001b[0;32m----> 9\u001b[0m     mt\u001b[39m.\u001b[39;49mload_from_file(\u001b[39m\"\u001b[39;49m\u001b[39m/home/cbarker4/Documents/DataScience/StockTrader/Data/todays\u001b[39;49m\u001b[39m\"\u001b[39;49m\u001b[39m+\u001b[39;49mval)\n\u001b[1;32m     10\u001b[0m     mt\u001b[39m.\u001b[39mdrop_column(\u001b[39m'\u001b[39m\u001b[39mv\u001b[39m\u001b[39m'\u001b[39m)\n\u001b[1;32m     11\u001b[0m     mt\u001b[39m.\u001b[39mdrop_column(\u001b[39m'\u001b[39m\u001b[39mt\u001b[39m\u001b[39m'\u001b[39m)\n",
      "File \u001b[0;32m~/Documents/DataScience/mypytable.py:279\u001b[0m, in \u001b[0;36mMyPyTable.load_from_file\u001b[0;34m(self, filename)\u001b[0m\n\u001b[1;32m    267\u001b[0m \u001b[39mdef\u001b[39;00m \u001b[39mload_from_file\u001b[39m(\u001b[39mself\u001b[39m, filename):\n\u001b[1;32m    268\u001b[0m     \u001b[39m\"\"\"Load column names and data from a CSV file.\u001b[39;00m\n\u001b[1;32m    269\u001b[0m \u001b[39m    Args:\u001b[39;00m\n\u001b[1;32m    270\u001b[0m \u001b[39m        filename(str): relative path for the CSV file to open and load the contents of.\u001b[39;00m\n\u001b[0;32m   (...)\u001b[0m\n\u001b[1;32m    277\u001b[0m \u001b[39m        Calls convert_to_numeric() after load\u001b[39;00m\n\u001b[1;32m    278\u001b[0m \u001b[39m    \"\"\"\u001b[39;00m\n\u001b[0;32m--> 279\u001b[0m     data \u001b[39m=\u001b[39m \u001b[39mlist\u001b[39m(csv\u001b[39m.\u001b[39mreader(\u001b[39mopen\u001b[39;49m(filename)))\n\u001b[1;32m    280\u001b[0m     \u001b[39mself\u001b[39m\u001b[39m.\u001b[39mcolumn_names \u001b[39m=\u001b[39m data[\u001b[39m0\u001b[39m]\n\u001b[1;32m    281\u001b[0m     data\u001b[39m.\u001b[39mpop(\u001b[39m0\u001b[39m)\n",
      "\u001b[0;31mFileNotFoundError\u001b[0m: [Errno 2] No such file or directory: '/home/cbarker4/Documents/DataScience/StockTrader/Data/todaysAAPL.csv'"
     ]
    }
   ],
   "source": [
    "stockfiles= os.listdir(\"/home/cbarker4/Documents/DataScience/StockTrader/Data/todays\")\n",
    "X = []\n",
    "Y=[]\n",
    "Xlast=[]\n",
    "stockfiles=[\"AAPL.csv\"]\n",
    "for j,val in enumerate(stockfiles):\n",
    "\n",
    "    mt = mypy.MyPyTable()\n",
    "    mt.load_from_file(\"/home/cbarker4/Documents/DataScience/StockTrader/Data/todays/\"+val)\n",
    "    mt.drop_column('v')\n",
    "    mt.drop_column('t')\n",
    "    mt.drop_column('s')\n",
    "    mt.drop_column('h')\n",
    "    mt.drop_column('l')\n",
    "    # mt.drop_column('o')\n",
    "\n",
    "    mt.drop_column(0)\n",
    "    col = mt.get_column('o')\n"
   ]
  }
 ],
 "metadata": {
  "kernelspec": {
   "display_name": "Python 3.9.16 ('tf')",
   "language": "python",
   "name": "python3"
  },
  "language_info": {
   "codemirror_mode": {
    "name": "ipython",
    "version": 3
   },
   "file_extension": ".py",
   "mimetype": "text/x-python",
   "name": "python",
   "nbconvert_exporter": "python",
   "pygments_lexer": "ipython3",
   "version": "3.9.16"
  },
  "orig_nbformat": 4,
  "vscode": {
   "interpreter": {
    "hash": "57f72d97daca9169f30c9ad42adeb4d6ec91c220776b1e342e1d269fde56f1f6"
   }
  }
 },
 "nbformat": 4,
 "nbformat_minor": 2
}
