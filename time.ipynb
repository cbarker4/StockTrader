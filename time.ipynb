{
 "cells": [
  {
   "cell_type": "code",
   "execution_count": 4,
   "metadata": {},
   "outputs": [
    {
     "data": {
      "text/plain": [
       "[60.0, 155.35, 155.57, 151.94, 154.5, 'ok', 1658361600.0, 65086636.0]"
      ]
     },
     "execution_count": 4,
     "metadata": {},
     "output_type": "execute_result"
    }
   ],
   "source": [
    "import mypytable\n",
    "\n",
    "mt = mypytable.MyPyTable()\n",
    "mt.load_from_file(\"/home/cbarker4/Documents/DataScience/StockTrader/Data/AAPL.csv\")\n",
    "\n",
    "\n",
    "mt.get_row(60)"
   ]
  },
  {
   "cell_type": "code",
   "execution_count": 5,
   "metadata": {},
   "outputs": [
    {
     "name": "stdout",
     "output_type": "stream",
     "text": [
      "155.57\n"
     ]
    }
   ],
   "source": [
    "from DataColection import TickerPuller\n",
    "\n",
    "TickerPuller.thisday(\"AAPL\",1658361600)\n",
    "\n",
    "mt.load_from_file(\"/home/cbarker4/Documents/DataScience/StockTrader/Data/todays/AAPL.csv\")\n",
    "\n",
    "print(max(mt.get_column('h')))\n"
   ]
  }
 ],
 "metadata": {
  "kernelspec": {
   "display_name": "Python 3.9.16 ('tf')",
   "language": "python",
   "name": "python3"
  },
  "language_info": {
   "codemirror_mode": {
    "name": "ipython",
    "version": 3
   },
   "file_extension": ".py",
   "mimetype": "text/x-python",
   "name": "python",
   "nbconvert_exporter": "python",
   "pygments_lexer": "ipython3",
   "version": "3.9.16"
  },
  "orig_nbformat": 4,
  "vscode": {
   "interpreter": {
    "hash": "57f72d97daca9169f30c9ad42adeb4d6ec91c220776b1e342e1d269fde56f1f6"
   }
  }
 },
 "nbformat": 4,
 "nbformat_minor": 2
}
